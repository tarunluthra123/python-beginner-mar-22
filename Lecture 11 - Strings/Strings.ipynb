{
 "cells": [
  {
   "cell_type": "markdown",
   "id": "4e565941",
   "metadata": {},
   "source": [
    "# Strings\n",
    "<img src=\"https://media.giphy.com/media/11I8v5lE8uq79C/giphy.gif\" width=\"200\"/>\n"
   ]
  },
  {
   "cell_type": "markdown",
   "id": "7de1537b",
   "metadata": {},
   "source": [
    "## Initialisation and Indexing"
   ]
  },
  {
   "cell_type": "code",
   "execution_count": 1,
   "id": "063e5595",
   "metadata": {},
   "outputs": [],
   "source": [
    "s = 'Hello World'\n",
    "s2 = \"Hello World\""
   ]
  },
  {
   "cell_type": "code",
   "execution_count": 2,
   "id": "bc010840",
   "metadata": {},
   "outputs": [
    {
     "name": "stdout",
     "output_type": "stream",
     "text": [
      "Hello World\n",
      "Hello World\n"
     ]
    }
   ],
   "source": [
    "print(s)\n",
    "print(s2)"
   ]
  },
  {
   "cell_type": "code",
   "execution_count": 5,
   "id": "e5034e4f",
   "metadata": {},
   "outputs": [],
   "source": [
    "books = \"\"\"\n",
    "Harry Potter and the Philospher's Stone\n",
    "Harry Potter and the Chamber of Secrets\n",
    "Harry Potter and the Prisoner of Azkaban\n",
    "\"\"\"\n",
    "\n",
    "books = '''\n",
    "Harry Potter and the Philospher's Stone\n",
    "Harry Potter and the Chamber of Secrets\n",
    "Harry Potter and the Prisoner of Azkaban\n",
    "'''"
   ]
  },
  {
   "cell_type": "code",
   "execution_count": 4,
   "id": "6c8ab4a4",
   "metadata": {},
   "outputs": [
    {
     "name": "stdout",
     "output_type": "stream",
     "text": [
      "\n",
      "Harry Potter and the Philospher's Stone\n",
      "Harry Potter and the Chamber of Secrets\n",
      "Harry Potter and the Prisoner of Azkaban\n",
      "\n"
     ]
    }
   ],
   "source": [
    "print(books)"
   ]
  },
  {
   "cell_type": "code",
   "execution_count": 6,
   "id": "c7740cb1",
   "metadata": {},
   "outputs": [],
   "source": [
    "book = 'Harry Potter and the Half Blood Prince'"
   ]
  },
  {
   "cell_type": "code",
   "execution_count": 7,
   "id": "accba37e",
   "metadata": {},
   "outputs": [
    {
     "data": {
      "text/plain": [
       "'H'"
      ]
     },
     "execution_count": 7,
     "metadata": {},
     "output_type": "execute_result"
    }
   ],
   "source": [
    "book[0]"
   ]
  },
  {
   "cell_type": "code",
   "execution_count": 8,
   "id": "adc9e013",
   "metadata": {},
   "outputs": [
    {
     "data": {
      "text/plain": [
       "'r'"
      ]
     },
     "execution_count": 8,
     "metadata": {},
     "output_type": "execute_result"
    }
   ],
   "source": [
    "book[3]"
   ]
  },
  {
   "cell_type": "code",
   "execution_count": 9,
   "id": "55315d16",
   "metadata": {},
   "outputs": [
    {
     "data": {
      "text/plain": [
       "' '"
      ]
     },
     "execution_count": 9,
     "metadata": {},
     "output_type": "execute_result"
    }
   ],
   "source": [
    "book[5]"
   ]
  },
  {
   "cell_type": "code",
   "execution_count": 10,
   "id": "fc3b5028",
   "metadata": {},
   "outputs": [
    {
     "data": {
      "text/plain": [
       "'e'"
      ]
     },
     "execution_count": 10,
     "metadata": {},
     "output_type": "execute_result"
    }
   ],
   "source": [
    "book[-1]"
   ]
  },
  {
   "cell_type": "code",
   "execution_count": null,
   "id": "bab509ff",
   "metadata": {},
   "outputs": [],
   "source": []
  },
  {
   "cell_type": "code",
   "execution_count": null,
   "id": "a7c05cc2",
   "metadata": {},
   "outputs": [],
   "source": []
  },
  {
   "cell_type": "markdown",
   "id": "9b9ef9f9",
   "metadata": {},
   "source": [
    "## Mutable or Immutable ?\n",
    "Python strings are immutable."
   ]
  },
  {
   "cell_type": "markdown",
   "id": "9a968c55",
   "metadata": {},
   "source": [
    "- Mutable - Can be changed or modified\n",
    "- Immutable - Cannot be changed or modified"
   ]
  },
  {
   "cell_type": "code",
   "execution_count": 12,
   "id": "0eaa01b8",
   "metadata": {},
   "outputs": [
    {
     "name": "stdout",
     "output_type": "stream",
     "text": [
      "4395283696\n",
      "4395286000\n"
     ]
    }
   ],
   "source": [
    "s = \"Hello\"\n",
    "print(id(s))\n",
    "s = \"Hello World\"\n",
    "print(id(s))"
   ]
  },
  {
   "cell_type": "code",
   "execution_count": null,
   "id": "f620247b",
   "metadata": {},
   "outputs": [],
   "source": []
  },
  {
   "cell_type": "code",
   "execution_count": null,
   "id": "e848cfaa",
   "metadata": {},
   "outputs": [],
   "source": []
  },
  {
   "cell_type": "code",
   "execution_count": null,
   "id": "9cc25390",
   "metadata": {},
   "outputs": [],
   "source": []
  },
  {
   "cell_type": "markdown",
   "id": "77962081",
   "metadata": {},
   "source": [
    "## Length of a string"
   ]
  },
  {
   "cell_type": "code",
   "execution_count": 13,
   "id": "99a909a4",
   "metadata": {},
   "outputs": [
    {
     "name": "stdout",
     "output_type": "stream",
     "text": [
      "38\n"
     ]
    }
   ],
   "source": [
    "print(len(book))"
   ]
  },
  {
   "cell_type": "code",
   "execution_count": null,
   "id": "84deee54",
   "metadata": {},
   "outputs": [],
   "source": []
  },
  {
   "cell_type": "code",
   "execution_count": null,
   "id": "1fa7fd28",
   "metadata": {},
   "outputs": [],
   "source": []
  },
  {
   "cell_type": "code",
   "execution_count": null,
   "id": "d8a81670",
   "metadata": {},
   "outputs": [],
   "source": []
  },
  {
   "cell_type": "markdown",
   "id": "8aaa0bb2",
   "metadata": {},
   "source": [
    "## Basic Operations\n",
    "1. Concatenation : `+`\n",
    "2. Repetition : `*`\n",
    "3. Check occurence : `in` operator\n",
    "4. Find index of occurence - `.find()`\n",
    "5. Changing case - .lower(), .upper()"
   ]
  },
  {
   "cell_type": "code",
   "execution_count": null,
   "id": "992bde06",
   "metadata": {},
   "outputs": [],
   "source": []
  },
  {
   "cell_type": "markdown",
   "id": "6cd4c7ab",
   "metadata": {},
   "source": [
    "## Concatenation : +"
   ]
  },
  {
   "cell_type": "code",
   "execution_count": 15,
   "id": "6bab4507",
   "metadata": {},
   "outputs": [],
   "source": [
    "s1 = \"Hello\"\n",
    "s2 = \"World\""
   ]
  },
  {
   "cell_type": "code",
   "execution_count": 20,
   "id": "7fc0dbd9",
   "metadata": {},
   "outputs": [
    {
     "name": "stdout",
     "output_type": "stream",
     "text": [
      "Hello World\n"
     ]
    }
   ],
   "source": [
    "s3 = s1 + \" \" + s2\n",
    "print(s3)"
   ]
  },
  {
   "cell_type": "code",
   "execution_count": 21,
   "id": "c9439b9d",
   "metadata": {},
   "outputs": [
    {
     "name": "stdout",
     "output_type": "stream",
     "text": [
      "He said \"Good morning\" .\n"
     ]
    }
   ],
   "source": [
    "s4 = 'He said \"Good morning\" .'\n",
    "print(s4)"
   ]
  },
  {
   "cell_type": "code",
   "execution_count": null,
   "id": "e2f58efb",
   "metadata": {},
   "outputs": [],
   "source": []
  },
  {
   "cell_type": "markdown",
   "id": "81739f01",
   "metadata": {},
   "source": [
    "## Repetition : *"
   ]
  },
  {
   "cell_type": "code",
   "execution_count": 25,
   "id": "b45ae2aa",
   "metadata": {},
   "outputs": [
    {
     "name": "stdout",
     "output_type": "stream",
     "text": [
      "abc abc abc abc abc \n"
     ]
    }
   ],
   "source": [
    "s = \"abc \"\n",
    "print(s * 5)"
   ]
  },
  {
   "cell_type": "code",
   "execution_count": 27,
   "id": "1240ccf3",
   "metadata": {},
   "outputs": [
    {
     "name": "stdout",
     "output_type": "stream",
     "text": [
      "Hello+World\n"
     ]
    }
   ],
   "source": [
    "print(\"Hello\", \"World\", sep='+')"
   ]
  },
  {
   "cell_type": "code",
   "execution_count": null,
   "id": "ee19dc37",
   "metadata": {},
   "outputs": [],
   "source": []
  },
  {
   "cell_type": "code",
   "execution_count": null,
   "id": "42d65954",
   "metadata": {},
   "outputs": [],
   "source": []
  },
  {
   "cell_type": "markdown",
   "id": "26e222f8",
   "metadata": {},
   "source": [
    "## in operator\n",
    "<img src=\"https://media.giphy.com/media/Id6W2FwdL6Sb4T9VF7/giphy.gif\" width=\"200\">"
   ]
  },
  {
   "cell_type": "code",
   "execution_count": 28,
   "id": "390c4ac7",
   "metadata": {},
   "outputs": [],
   "source": [
    "book = 'Harry Potter and the Half Blood Prince'"
   ]
  },
  {
   "cell_type": "code",
   "execution_count": null,
   "id": "085620a1",
   "metadata": {},
   "outputs": [],
   "source": [
    "# How to check whether a smaller string is present inside the bigger string"
   ]
  },
  {
   "cell_type": "code",
   "execution_count": 31,
   "id": "7711bf90",
   "metadata": {},
   "outputs": [
    {
     "name": "stdout",
     "output_type": "stream",
     "text": [
      "Not found\n"
     ]
    }
   ],
   "source": [
    "if \"blood\" in book:\n",
    "    print(\"Found\")\n",
    "else:\n",
    "    print(\"Not found\")"
   ]
  },
  {
   "cell_type": "code",
   "execution_count": null,
   "id": "7e7c4582",
   "metadata": {},
   "outputs": [],
   "source": []
  },
  {
   "cell_type": "markdown",
   "id": "cb827a07",
   "metadata": {},
   "source": [
    "## count()"
   ]
  },
  {
   "cell_type": "code",
   "execution_count": 35,
   "id": "19eaeb74",
   "metadata": {},
   "outputs": [
    {
     "name": "stdout",
     "output_type": "stream",
     "text": [
      "2\n",
      "1\n",
      "1\n"
     ]
    }
   ],
   "source": [
    "book = 'Harry Potter and the Half Blood Prince'\n",
    "print(book.count(\"H\"))\n",
    "print(book.count(\"h\"))\n",
    "print(book.count('and'))"
   ]
  },
  {
   "cell_type": "code",
   "execution_count": null,
   "id": "1377ffce",
   "metadata": {},
   "outputs": [],
   "source": []
  },
  {
   "cell_type": "code",
   "execution_count": null,
   "id": "7b5e2c44",
   "metadata": {},
   "outputs": [],
   "source": []
  },
  {
   "cell_type": "code",
   "execution_count": null,
   "id": "73963c01",
   "metadata": {},
   "outputs": [],
   "source": []
  },
  {
   "cell_type": "code",
   "execution_count": null,
   "id": "060137f7",
   "metadata": {},
   "outputs": [],
   "source": []
  },
  {
   "cell_type": "code",
   "execution_count": null,
   "id": "8d7f4f7f",
   "metadata": {},
   "outputs": [],
   "source": []
  },
  {
   "cell_type": "code",
   "execution_count": null,
   "id": "214b230c",
   "metadata": {},
   "outputs": [],
   "source": []
  },
  {
   "cell_type": "markdown",
   "id": "d9ea05ef",
   "metadata": {},
   "source": [
    "## .find()\n",
    "Find the index of a given substring"
   ]
  },
  {
   "cell_type": "code",
   "execution_count": 36,
   "id": "19b93d49",
   "metadata": {},
   "outputs": [],
   "source": [
    "book = 'Harry Potter and the Half Blood Prince'"
   ]
  },
  {
   "cell_type": "code",
   "execution_count": 37,
   "id": "163a0339",
   "metadata": {},
   "outputs": [
    {
     "data": {
      "text/plain": [
       "17"
      ]
     },
     "execution_count": 37,
     "metadata": {},
     "output_type": "execute_result"
    }
   ],
   "source": [
    "book.find(\"the\")"
   ]
  },
  {
   "cell_type": "code",
   "execution_count": 42,
   "id": "35183d77",
   "metadata": {},
   "outputs": [
    {
     "name": "stdout",
     "output_type": "stream",
     "text": [
      "0\n"
     ]
    }
   ],
   "source": [
    "idx = book.find(\"Ha\")\n",
    "print(idx)"
   ]
  },
  {
   "cell_type": "code",
   "execution_count": 43,
   "id": "7771910a",
   "metadata": {},
   "outputs": [
    {
     "data": {
      "text/plain": [
       "21"
      ]
     },
     "execution_count": 43,
     "metadata": {},
     "output_type": "execute_result"
    }
   ],
   "source": [
    "book.find(\"Ha\", idx+1)"
   ]
  },
  {
   "cell_type": "markdown",
   "id": "a2b0260b",
   "metadata": {},
   "source": [
    "## .replace()\n",
    "<img src=\"https://media.giphy.com/media/bnDYyn2HMzqpDEUecP/giphy.gif\" width=\"200\"/>"
   ]
  },
  {
   "cell_type": "code",
   "execution_count": 53,
   "id": "949d8d2e",
   "metadata": {},
   "outputs": [],
   "source": [
    "s = \"Python is amazing. Programming is also amazing.\"\n",
    "# To replace \"amazing\" with \"awesome\""
   ]
  },
  {
   "cell_type": "code",
   "execution_count": 57,
   "id": "e3cb5d02",
   "metadata": {},
   "outputs": [],
   "source": [
    "t = s.replace(\"amazing\", \"awesome\", 1)"
   ]
  },
  {
   "cell_type": "code",
   "execution_count": 58,
   "id": "7afa6aaf",
   "metadata": {},
   "outputs": [
    {
     "name": "stdout",
     "output_type": "stream",
     "text": [
      "Python is awesome. Programming is also amazing.\n"
     ]
    }
   ],
   "source": [
    "print(t)"
   ]
  },
  {
   "cell_type": "code",
   "execution_count": 56,
   "id": "9ff337a6",
   "metadata": {},
   "outputs": [
    {
     "name": "stdout",
     "output_type": "stream",
     "text": [
      "Python is amazing. Programming is also amazing.\n"
     ]
    }
   ],
   "source": [
    "print(s)"
   ]
  },
  {
   "cell_type": "code",
   "execution_count": null,
   "id": "cf51c66a",
   "metadata": {},
   "outputs": [],
   "source": []
  },
  {
   "cell_type": "code",
   "execution_count": null,
   "id": "d0ca4b73",
   "metadata": {},
   "outputs": [],
   "source": []
  },
  {
   "cell_type": "code",
   "execution_count": null,
   "id": "46a26c63",
   "metadata": {},
   "outputs": [],
   "source": []
  },
  {
   "cell_type": "code",
   "execution_count": null,
   "id": "d46abf6d",
   "metadata": {},
   "outputs": [],
   "source": []
  },
  {
   "cell_type": "markdown",
   "id": "76bd2d6b",
   "metadata": {},
   "source": [
    "## .lower(), .upper()\n",
    "<img src=\"https://media.giphy.com/media/U6S0ljt7XRXXtfy3KG/giphy.gif\" width=\"200\"/>"
   ]
  },
  {
   "cell_type": "code",
   "execution_count": 60,
   "id": "e19e6382",
   "metadata": {},
   "outputs": [
    {
     "name": "stdout",
     "output_type": "stream",
     "text": [
      "HARRY POTTER AND THE HALF BLOOD PRINCE\n",
      "Harry Potter and the Half Blood Prince\n"
     ]
    }
   ],
   "source": [
    "book = 'Harry Potter and the Half Blood Prince'\n",
    "u = book.upper()\n",
    "print(u)\n",
    "print(book)"
   ]
  },
  {
   "cell_type": "code",
   "execution_count": 61,
   "id": "097588af",
   "metadata": {},
   "outputs": [
    {
     "name": "stdout",
     "output_type": "stream",
     "text": [
      "harry potter and the half blood prince\n"
     ]
    }
   ],
   "source": [
    "l = book.lower()\n",
    "print(l)"
   ]
  },
  {
   "cell_type": "code",
   "execution_count": 63,
   "id": "43375cdf",
   "metadata": {},
   "outputs": [
    {
     "name": "stdout",
     "output_type": "stream",
     "text": [
      "Harry POTTER and the Half Blood Prince\n"
     ]
    }
   ],
   "source": [
    "target = \"Potter\"\n",
    "book = book.replace(target, target.upper())\n",
    "\n",
    "print(book)"
   ]
  },
  {
   "cell_type": "code",
   "execution_count": null,
   "id": "fc7e9b2c",
   "metadata": {},
   "outputs": [],
   "source": []
  },
  {
   "cell_type": "code",
   "execution_count": null,
   "id": "7a939f77",
   "metadata": {},
   "outputs": [],
   "source": []
  },
  {
   "cell_type": "code",
   "execution_count": null,
   "id": "c569859e",
   "metadata": {},
   "outputs": [],
   "source": []
  },
  {
   "cell_type": "markdown",
   "id": "d8fbfe97",
   "metadata": {},
   "source": [
    "## Looping over strings\n",
    "<img src=\"https://media.giphy.com/media/ieaUdBJJC19uw/giphy-downsized-large.gif\" width=\"200\"/>"
   ]
  },
  {
   "cell_type": "code",
   "execution_count": 70,
   "id": "032c705a",
   "metadata": {},
   "outputs": [
    {
     "name": "stdout",
     "output_type": "stream",
     "text": [
      "H/a/r/r/y/ /P/o/t/t/e/r/ /a/n/d/ /t/h/e/ /H/a/l/f/ /B/l/o/o/d/ /P/r/i/n/c/e/"
     ]
    }
   ],
   "source": [
    "book = 'Harry Potter and the Half Blood Prince'\n",
    "\n",
    "for x in book:\n",
    "    print(x, end=\"/\")"
   ]
  },
  {
   "cell_type": "code",
   "execution_count": null,
   "id": "52b28e05",
   "metadata": {},
   "outputs": [],
   "source": []
  },
  {
   "cell_type": "code",
   "execution_count": null,
   "id": "0acaa096",
   "metadata": {},
   "outputs": [],
   "source": []
  },
  {
   "cell_type": "code",
   "execution_count": null,
   "id": "3b70ed6d",
   "metadata": {},
   "outputs": [],
   "source": []
  },
  {
   "cell_type": "markdown",
   "id": "136b8399",
   "metadata": {},
   "source": [
    "## ord function\n",
    "To get the ASCII code for any character"
   ]
  },
  {
   "cell_type": "code",
   "execution_count": 71,
   "id": "72e7da89",
   "metadata": {},
   "outputs": [
    {
     "name": "stdout",
     "output_type": "stream",
     "text": [
      "65\n"
     ]
    }
   ],
   "source": [
    "print(ord('A'))"
   ]
  },
  {
   "cell_type": "code",
   "execution_count": 72,
   "id": "f08da0bb",
   "metadata": {},
   "outputs": [
    {
     "name": "stdout",
     "output_type": "stream",
     "text": [
      "122\n"
     ]
    }
   ],
   "source": [
    "print(ord('z'))"
   ]
  },
  {
   "cell_type": "code",
   "execution_count": null,
   "id": "f7a6e015",
   "metadata": {},
   "outputs": [],
   "source": []
  },
  {
   "cell_type": "markdown",
   "id": "123241a6",
   "metadata": {},
   "source": [
    "## chr function"
   ]
  },
  {
   "cell_type": "code",
   "execution_count": 73,
   "id": "3d33ea77",
   "metadata": {},
   "outputs": [
    {
     "name": "stdout",
     "output_type": "stream",
     "text": [
      "B\n"
     ]
    }
   ],
   "source": [
    "print(chr(66))"
   ]
  },
  {
   "cell_type": "code",
   "execution_count": 74,
   "id": "93ca4d75",
   "metadata": {},
   "outputs": [
    {
     "name": "stdout",
     "output_type": "stream",
     "text": [
      "i\n"
     ]
    }
   ],
   "source": [
    "print(chr(105))"
   ]
  },
  {
   "cell_type": "markdown",
   "id": "bda3b47a",
   "metadata": {},
   "source": [
    "A\\\n",
    "B B\\\n",
    "C C C\\\n",
    "D D D D"
   ]
  },
  {
   "cell_type": "code",
   "execution_count": 77,
   "id": "20a908cc",
   "metadata": {},
   "outputs": [
    {
     "name": "stdout",
     "output_type": "stream",
     "text": [
      "A \n",
      "B B \n",
      "C C C \n",
      "D D D D \n"
     ]
    }
   ],
   "source": [
    "c = 65\n",
    "n = 4\n",
    "\n",
    "for i in range(n):\n",
    "    print((chr(c) + \" \") * (i+1))\n",
    "    c += 1"
   ]
  },
  {
   "cell_type": "markdown",
   "id": "ed04d118",
   "metadata": {},
   "source": [
    "## String splicing"
   ]
  },
  {
   "cell_type": "code",
   "execution_count": 78,
   "id": "441057ab",
   "metadata": {},
   "outputs": [],
   "source": [
    "book = 'Harry Potter and the Half Blood Prince'"
   ]
  },
  {
   "cell_type": "code",
   "execution_count": 79,
   "id": "4a50b2f6",
   "metadata": {},
   "outputs": [],
   "source": [
    "# Reverse of book string\n",
    "rev = book[::-1]"
   ]
  },
  {
   "cell_type": "code",
   "execution_count": 80,
   "id": "f7b2456a",
   "metadata": {},
   "outputs": [
    {
     "data": {
      "text/plain": [
       "'ecnirP doolB flaH eht dna rettoP yrraH'"
      ]
     },
     "execution_count": 80,
     "metadata": {},
     "output_type": "execute_result"
    }
   ],
   "source": [
    "rev"
   ]
  },
  {
   "cell_type": "code",
   "execution_count": 81,
   "id": "17447166",
   "metadata": {},
   "outputs": [
    {
     "data": {
      "text/plain": [
       "'ry '"
      ]
     },
     "execution_count": 81,
     "metadata": {},
     "output_type": "execute_result"
    }
   ],
   "source": [
    "book[3:6]"
   ]
  },
  {
   "cell_type": "code",
   "execution_count": 82,
   "id": "f27b52f4",
   "metadata": {},
   "outputs": [
    {
     "data": {
      "text/plain": [
       "'rry P'"
      ]
     },
     "execution_count": 82,
     "metadata": {},
     "output_type": "execute_result"
    }
   ],
   "source": [
    "book[2:7]"
   ]
  },
  {
   "cell_type": "code",
   "execution_count": 83,
   "id": "1fb582ff",
   "metadata": {},
   "outputs": [
    {
     "data": {
      "text/plain": [
       "'oP yr'"
      ]
     },
     "execution_count": 83,
     "metadata": {},
     "output_type": "execute_result"
    }
   ],
   "source": [
    "book[7:2:-1]"
   ]
  },
  {
   "cell_type": "code",
   "execution_count": null,
   "id": "8966999e",
   "metadata": {},
   "outputs": [],
   "source": []
  },
  {
   "cell_type": "markdown",
   "id": "d9f7159a",
   "metadata": {},
   "source": [
    "## strip function"
   ]
  },
  {
   "cell_type": "code",
   "execution_count": 85,
   "id": "85c61090",
   "metadata": {},
   "outputs": [
    {
     "name": "stdout",
     "output_type": "stream",
     "text": [
      "Hello World\n"
     ]
    }
   ],
   "source": [
    "s = \"        Hello World\"\n",
    "print(s.lstrip())"
   ]
  },
  {
   "cell_type": "code",
   "execution_count": 86,
   "id": "1dd729eb",
   "metadata": {},
   "outputs": [
    {
     "name": "stdout",
     "output_type": "stream",
     "text": [
      "Hello World\n"
     ]
    }
   ],
   "source": [
    "s = \"Hello World        \"\n",
    "print(s.rstrip())"
   ]
  },
  {
   "cell_type": "code",
   "execution_count": 87,
   "id": "46190e26",
   "metadata": {},
   "outputs": [
    {
     "name": "stdout",
     "output_type": "stream",
     "text": [
      "Hello World\n"
     ]
    }
   ],
   "source": [
    "s = \"        Hello World                 \"\n",
    "print(s.strip())"
   ]
  },
  {
   "cell_type": "code",
   "execution_count": 90,
   "id": "81a7638f",
   "metadata": {},
   "outputs": [
    {
     "name": "stdout",
     "output_type": "stream",
     "text": [
      "         54        \n"
     ]
    }
   ],
   "source": [
    "x = int(input().strip())"
   ]
  },
  {
   "cell_type": "code",
   "execution_count": 91,
   "id": "73fbc4e7",
   "metadata": {},
   "outputs": [
    {
     "name": "stdout",
     "output_type": "stream",
     "text": [
      "2916\n"
     ]
    }
   ],
   "source": [
    "print(x ** 2)"
   ]
  },
  {
   "cell_type": "code",
   "execution_count": null,
   "id": "719eb13c",
   "metadata": {},
   "outputs": [],
   "source": []
  },
  {
   "cell_type": "code",
   "execution_count": null,
   "id": "b529f6e1",
   "metadata": {},
   "outputs": [],
   "source": []
  },
  {
   "cell_type": "code",
   "execution_count": null,
   "id": "cee6f093",
   "metadata": {},
   "outputs": [],
   "source": []
  },
  {
   "cell_type": "markdown",
   "id": "99c58b0b",
   "metadata": {},
   "source": [
    "### replace space in middle"
   ]
  },
  {
   "cell_type": "code",
   "execution_count": 89,
   "id": "cd199534",
   "metadata": {},
   "outputs": [
    {
     "name": "stdout",
     "output_type": "stream",
     "text": [
      "World\n"
     ]
    }
   ],
   "source": [
    "s = \"Hello World\"\n",
    "s = s.replace(\"Hello \",\"\")\n",
    "print(s)"
   ]
  },
  {
   "cell_type": "code",
   "execution_count": null,
   "id": "a32da833",
   "metadata": {},
   "outputs": [],
   "source": []
  },
  {
   "cell_type": "code",
   "execution_count": null,
   "id": "bc63d5a1",
   "metadata": {},
   "outputs": [],
   "source": []
  },
  {
   "cell_type": "code",
   "execution_count": null,
   "id": "ab1b19e1",
   "metadata": {},
   "outputs": [],
   "source": []
  },
  {
   "cell_type": "markdown",
   "id": "632c3f67",
   "metadata": {},
   "source": [
    "## Reverse the order of words"
   ]
  },
  {
   "cell_type": "code",
   "execution_count": null,
   "id": "37815504",
   "metadata": {},
   "outputs": [],
   "source": [
    "book = 'Harry Potter and the Half Blood Prince'\n",
    "# Prince Blood Half the and Potter Harry"
   ]
  },
  {
   "cell_type": "code",
   "execution_count": 93,
   "id": "d9dadb5a",
   "metadata": {},
   "outputs": [
    {
     "name": "stdout",
     "output_type": "stream",
     "text": [
      "['Harry', 'Potter', 'and', 'the', 'Half', 'Blood', 'Prince']\n"
     ]
    }
   ],
   "source": [
    "words = book.split()\n",
    "print(words)"
   ]
  },
  {
   "cell_type": "code",
   "execution_count": 94,
   "id": "92ddec80",
   "metadata": {},
   "outputs": [],
   "source": [
    "words.reverse()\n",
    "# words = words[::-1]"
   ]
  },
  {
   "cell_type": "code",
   "execution_count": 95,
   "id": "1c256283",
   "metadata": {},
   "outputs": [
    {
     "data": {
      "text/plain": [
       "['Prince', 'Blood', 'Half', 'the', 'and', 'Potter', 'Harry']"
      ]
     },
     "execution_count": 95,
     "metadata": {},
     "output_type": "execute_result"
    }
   ],
   "source": [
    "words"
   ]
  },
  {
   "cell_type": "code",
   "execution_count": 104,
   "id": "2f709b47",
   "metadata": {},
   "outputs": [],
   "source": [
    "res = \" \".join(words)"
   ]
  },
  {
   "cell_type": "code",
   "execution_count": 105,
   "id": "90d130ba",
   "metadata": {},
   "outputs": [
    {
     "data": {
      "text/plain": [
       "'Prince Blood Half the and Potter Harry'"
      ]
     },
     "execution_count": 105,
     "metadata": {},
     "output_type": "execute_result"
    }
   ],
   "source": [
    "res"
   ]
  },
  {
   "cell_type": "code",
   "execution_count": null,
   "id": "7f10bff9",
   "metadata": {},
   "outputs": [],
   "source": []
  },
  {
   "cell_type": "markdown",
   "id": "47d19761",
   "metadata": {},
   "source": [
    "## Reverse each word individually in a string"
   ]
  },
  {
   "cell_type": "code",
   "execution_count": null,
   "id": "f9007ae9",
   "metadata": {},
   "outputs": [],
   "source": [
    "book = 'Harry Potter and the Half Blood Prince'\n",
    "# yrraH rettoP dna eht flaH doolB ecnirP"
   ]
  },
  {
   "cell_type": "code",
   "execution_count": 111,
   "id": "27b49f4d",
   "metadata": {},
   "outputs": [
    {
     "name": "stdout",
     "output_type": "stream",
     "text": [
      "['Harry', 'Potter', 'and', 'the', 'Half', 'Blood', 'Prince']\n"
     ]
    }
   ],
   "source": [
    "words = book.split()\n",
    "print(words)"
   ]
  },
  {
   "cell_type": "code",
   "execution_count": 112,
   "id": "61ebf6cb",
   "metadata": {},
   "outputs": [],
   "source": [
    "for i in range(len(words)):\n",
    "    words[i] = words[i][::-1]"
   ]
  },
  {
   "cell_type": "code",
   "execution_count": 113,
   "id": "cc54d5ee",
   "metadata": {},
   "outputs": [
    {
     "data": {
      "text/plain": [
       "['yrraH', 'rettoP', 'dna', 'eht', 'flaH', 'doolB', 'ecnirP']"
      ]
     },
     "execution_count": 113,
     "metadata": {},
     "output_type": "execute_result"
    }
   ],
   "source": [
    "words"
   ]
  },
  {
   "cell_type": "code",
   "execution_count": 116,
   "id": "51d18ae6",
   "metadata": {},
   "outputs": [
    {
     "name": "stdout",
     "output_type": "stream",
     "text": [
      "yrraH_rettoP_dna_eht_flaH_doolB_ecnirP\n"
     ]
    }
   ],
   "source": [
    "res = \"_\".join(words)\n",
    "print(res)"
   ]
  },
  {
   "cell_type": "code",
   "execution_count": null,
   "id": "4b704e66",
   "metadata": {},
   "outputs": [],
   "source": []
  },
  {
   "cell_type": "code",
   "execution_count": null,
   "id": "87ba1dc2",
   "metadata": {},
   "outputs": [],
   "source": []
  },
  {
   "cell_type": "code",
   "execution_count": null,
   "id": "1f04d4f1",
   "metadata": {},
   "outputs": [],
   "source": []
  },
  {
   "cell_type": "code",
   "execution_count": null,
   "id": "a46f293d",
   "metadata": {},
   "outputs": [],
   "source": []
  },
  {
   "cell_type": "markdown",
   "id": "dec57c78",
   "metadata": {},
   "source": [
    "## Format strings"
   ]
  },
  {
   "cell_type": "code",
   "execution_count": 118,
   "id": "80e2918c",
   "metadata": {},
   "outputs": [],
   "source": [
    "apple_count = 4\n",
    "orange_count = 10\n",
    "guava_count = 5\n",
    "\n",
    "\n",
    "# Generate a string that says, \"I have 4 apples, 10 oranges and 5 guavas\""
   ]
  },
  {
   "cell_type": "code",
   "execution_count": 121,
   "id": "df842ba0",
   "metadata": {},
   "outputs": [],
   "source": [
    "s = \"I have \" + str(apple_count) + \" apples, \" + str(orange_count) + \" oranges and \" + str(guava_count) + \" guavas\""
   ]
  },
  {
   "cell_type": "code",
   "execution_count": 122,
   "id": "cc27ef21",
   "metadata": {},
   "outputs": [
    {
     "data": {
      "text/plain": [
       "'I have 4 apples, 10 oranges and 5 guavas'"
      ]
     },
     "execution_count": 122,
     "metadata": {},
     "output_type": "execute_result"
    }
   ],
   "source": [
    "s"
   ]
  },
  {
   "cell_type": "markdown",
   "id": "c4bd04d1",
   "metadata": {},
   "source": [
    "#### f-string\n",
    "Only available in Python 3.6 or higher versions"
   ]
  },
  {
   "cell_type": "code",
   "execution_count": 124,
   "id": "f9d9096e",
   "metadata": {},
   "outputs": [],
   "source": [
    "s = f\"I have {apple_count} apples, {orange_count} oranges and {guava_count} guavas\""
   ]
  },
  {
   "cell_type": "code",
   "execution_count": 125,
   "id": "f50ae5f9",
   "metadata": {},
   "outputs": [
    {
     "data": {
      "text/plain": [
       "'I have 4 apples, 10 oranges and 5 guavas'"
      ]
     },
     "execution_count": 125,
     "metadata": {},
     "output_type": "execute_result"
    }
   ],
   "source": [
    "s"
   ]
  },
  {
   "cell_type": "code",
   "execution_count": 126,
   "id": "41b50c29",
   "metadata": {},
   "outputs": [],
   "source": [
    "s = \"I have {} apples, {} oranges and {} guavas\".format(apple_count, orange_count, guava_count)"
   ]
  },
  {
   "cell_type": "code",
   "execution_count": 127,
   "id": "c70f69c4",
   "metadata": {},
   "outputs": [
    {
     "data": {
      "text/plain": [
       "'I have 4 apples, 10 oranges and 5 guavas'"
      ]
     },
     "execution_count": 127,
     "metadata": {},
     "output_type": "execute_result"
    }
   ],
   "source": [
    "s"
   ]
  },
  {
   "cell_type": "code",
   "execution_count": null,
   "id": "c72a7f54",
   "metadata": {},
   "outputs": [],
   "source": []
  },
  {
   "cell_type": "markdown",
   "id": "ff4a46a2",
   "metadata": {},
   "source": [
    "## Methods in Strings \n",
    "https://www.scaler.com/topics/python/string-methods-python/"
   ]
  },
  {
   "cell_type": "code",
   "execution_count": null,
   "id": "62805140",
   "metadata": {},
   "outputs": [],
   "source": []
  },
  {
   "cell_type": "code",
   "execution_count": null,
   "id": "c2fd190d",
   "metadata": {},
   "outputs": [],
   "source": []
  },
  {
   "cell_type": "code",
   "execution_count": null,
   "id": "3882db30",
   "metadata": {},
   "outputs": [],
   "source": []
  },
  {
   "cell_type": "code",
   "execution_count": null,
   "id": "068c75d1",
   "metadata": {},
   "outputs": [],
   "source": []
  },
  {
   "cell_type": "code",
   "execution_count": null,
   "id": "e2d3f07b",
   "metadata": {},
   "outputs": [],
   "source": []
  },
  {
   "cell_type": "markdown",
   "id": "1f86d5d6",
   "metadata": {},
   "source": [
    "# Docstrings"
   ]
  },
  {
   "cell_type": "code",
   "execution_count": 132,
   "id": "c5c3e1ba",
   "metadata": {},
   "outputs": [],
   "source": [
    "def square(x):\n",
    "    '''\n",
    "    This function returns the square of a number.\n",
    "    '''\n",
    "    return x ** 2"
   ]
  },
  {
   "cell_type": "code",
   "execution_count": 133,
   "id": "bb8961af",
   "metadata": {},
   "outputs": [
    {
     "name": "stdout",
     "output_type": "stream",
     "text": [
      "Help on function square in module __main__:\n",
      "\n",
      "square(x)\n",
      "    This function returns the square of a number.\n",
      "\n"
     ]
    }
   ],
   "source": [
    "help(square)"
   ]
  },
  {
   "cell_type": "code",
   "execution_count": null,
   "id": "c3e5ea79",
   "metadata": {},
   "outputs": [],
   "source": []
  },
  {
   "cell_type": "code",
   "execution_count": null,
   "id": "fe35842e",
   "metadata": {},
   "outputs": [],
   "source": []
  },
  {
   "cell_type": "code",
   "execution_count": null,
   "id": "008bfaae",
   "metadata": {},
   "outputs": [],
   "source": []
  },
  {
   "cell_type": "code",
   "execution_count": null,
   "id": "e0b41796",
   "metadata": {},
   "outputs": [],
   "source": []
  }
 ],
 "metadata": {
  "kernelspec": {
   "display_name": "Python 3 (ipykernel)",
   "language": "python",
   "name": "python3"
  },
  "language_info": {
   "codemirror_mode": {
    "name": "ipython",
    "version": 3
   },
   "file_extension": ".py",
   "mimetype": "text/x-python",
   "name": "python",
   "nbconvert_exporter": "python",
   "pygments_lexer": "ipython3",
   "version": "3.9.12"
  }
 },
 "nbformat": 4,
 "nbformat_minor": 5
}
